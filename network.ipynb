{
 "cells": [
  {
   "cell_type": "code",
   "execution_count": 16,
   "metadata": {},
   "outputs": [],
   "source": [
    "import networkx as nx\n",
    "import matplotlib.pyplot as plt\n",
    "import json"
   ]
  },
  {
   "cell_type": "code",
   "execution_count": 6,
   "metadata": {},
   "outputs": [
    {
     "name": "stdout",
     "output_type": "stream",
     "text": [
      "Raw posts loaded: 523\n"
     ]
    }
   ],
   "source": [
    "# load posts\n",
    "with open('posts.json', 'r') as f:\n",
    "    posts = json.load(f)\n",
    "print(\"Raw posts loaded:\", len(posts))"
   ]
  },
  {
   "cell_type": "code",
   "execution_count": 10,
   "metadata": {},
   "outputs": [
    {
     "name": "stdout",
     "output_type": "stream",
     "text": [
      "210\n"
     ]
    }
   ],
   "source": [
    "users = set([post['user'] for post in posts.values()])\n",
    "print(len(users))"
   ]
  },
  {
   "cell_type": "code",
   "execution_count": 30,
   "metadata": {},
   "outputs": [
    {
     "name": "stdout",
     "output_type": "stream",
     "text": [
      "104\n",
      "{'Unicorn hunter', 'myrc60', 'KaraG', 'beach43ofus', 'Weird Vivid Dreams after Pfizer', 'jerzdevil', 'Coloradomom22', 'Planning on getting the J & J this week', 'Chas863', 'elchevere', 'Roselvr', 'Sonny3', 'Natural510', 'Nanny Goat', 'shamrock4', 'HarryWarden', 'Arktikos', 'ncbeckster', 'jbgusa', 'mlj1225', 'Caramelized Onion', 'Pruzhany', 'vision33r', 'Teacher Terry', 'texan2yankee', 'KathrynAragon', 'otowi', 'chiluvr1228', 'zalewskimm', 'Moonlady', 'DanBev', 'Flamingo13', 'CentralUSHomeowner', 'mascoma', 'pinkjewel', 'charolastra00', 'SimplySagacious', 'MadManofBethesda', 'Icy Tea', 'skeddy', 'Sweet*Tea', 'Robinwomb', '2nd covid vaccine today, fever is 102.2', 'TravelingBoat', 'Mad_Jasper', 'adventuregurl', 'mitchmiller9', 'mountainrose', 'fluffythewondercat', 'Lola The yorkie', 'DKM', 'writerwife', 'Variable', 'Deserterer', 'exm', 'jen5276', 'lvmensch', 'Medical Lab Guy', 'Fiona8484', 'LO28SWM', 'CarnivalGal', 'mysticaltyger', 'newtovenice', 'ContraPagan', 'Newfangle9', 'Bette', 'Jessie Mitchell', 'GGG2020', 'suzy_q2010', 'kell490', 'luo2013', 'robocall', 'Fisherman99', 'atlguy44', 'Lillie767', 'COVID vaccine experience', 'Parnassia', 'Rom623', 'silibran', 'aslowdodge', 'SmartMoney', 'frankiecd', 'coschristi', 'JustMike77', 'usayit', 'Oklazona Bound', 'greenjuice', 'Scorpio60', 'Labonte18', 'lchoro', 'JG183', 'DubbleT', 'Star10101', 'kidyankee764', 'Arya Stark', 'athena53', 'GuruChicken', 'mike1003', 'beckycat', 'vikesfanmb', 'Bruce Holbrook', 'AZgarden', 'Iluvbeagles', 'NoMansLands'}\n",
      "94\n",
      "10\n",
      "Weird Vivid Dreams after Pfizer\n",
      "Planning on getting the J & J this week\n",
      "chiluvr1228\n",
      "zalewskimm\n",
      "charolastra00\n",
      "2nd covid vaccine today, fever is 102.2\n",
      "fluffythewondercat\n",
      "newtovenice\n",
      "COVID vaccine experience\n",
      "Arya Stark\n"
     ]
    }
   ],
   "source": [
    "quotes = []\n",
    "for post in posts.values():\n",
    "    quotes += post['quotes']\n",
    "quotes = set(quotes)\n",
    "print(len(quotes))\n",
    "print(quotes)\n",
    "quotes_in = [quote for quote in quotes if quote in users]\n",
    "quotes_not_in = [quote for quote in quotes if quote not in users]\n",
    "print(len(quotes_in))\n",
    "print(len(quotes_not_in))\n",
    "for q in quotes_not_in:\n",
    "    print(q)"
   ]
  },
  {
   "cell_type": "code",
   "execution_count": 33,
   "metadata": {},
   "outputs": [
    {
     "name": "stdout",
     "output_type": "stream",
     "text": [
      "post60828575 vikesfanmb\n"
     ]
    }
   ],
   "source": [
    "for i, post in enumerate(posts.values()):\n",
    "    if 'COVID vaccine experience' in post['quotes']:\n",
    "        print(post['id'], post['user'])"
   ]
  },
  {
   "cell_type": "code",
   "execution_count": 23,
   "metadata": {},
   "outputs": [],
   "source": [
    "G = nx.Graph()\n",
    "G.add_nodes_from(['a', 'b', 'c', 'd'])\n",
    "G.add_edge('a', 'e')"
   ]
  },
  {
   "cell_type": "code",
   "execution_count": 24,
   "metadata": {},
   "outputs": [
    {
     "data": {
      "image/png": "[encoded data removed]",
      "text/plain": [
       "<Figure size 640x480 with 1 Axes>"
      ]
     },
     "metadata": {},
     "output_type": "display_data"
    }
   ],
   "source": [
    "nx.draw(G)\n",
    "plt.show()"
   ]
  }
 ],
 "metadata": {
  "kernelspec": {
   "display_name": "network_env",
   "language": "python",
   "name": "python3"
  },
  "language_info": {
   "codemirror_mode": {
    "name": "ipython",
    "version": 3
   },
   "file_extension": ".py",
   "mimetype": "text/x-python",
   "name": "python",
   "nbconvert_exporter": "python",
   "pygments_lexer": "ipython3",
   "version": "3.12.2"
  }
 },
 "nbformat": 4,
 "nbformat_minor": 2
}
