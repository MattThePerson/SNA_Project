{
 "cells": [
  {
   "cell_type": "code",
   "execution_count": 6,
   "metadata": {},
   "outputs": [],
   "source": [
    "from bs4 import BeautifulSoup as BS\n",
    "import requests as req"
   ]
  },
  {
   "cell_type": "code",
   "execution_count": 43,
   "metadata": {},
   "outputs": [],
   "source": [
    "def get_posts_from_page(sp):\n",
    "    posts_el = soup.find('div', {'id' : 'posts'})\n",
    "    posts = []\n",
    "    for table in posts_el.find_all('table'):\n",
    "        try:\n",
    "            id_ = table['id']\n",
    "            #print(id_)\n",
    "            post = {\n",
    "                'id' : id_,\n",
    "                'html' : table.prettify()\n",
    "            }\n",
    "            posts.append(post)\n",
    "        except:\n",
    "            pass\n",
    "    print(\"Found {} posts\".format(len(posts)))\n",
    "    return posts"
   ]
  },
  {
   "cell_type": "code",
   "execution_count": 44,
   "metadata": {},
   "outputs": [],
   "source": [
    "def extract_post_data(post):\n",
    "    psoup = BS(post['html'], 'html.parser')\n",
    "\n",
    "    return post"
   ]
  },
  {
   "cell_type": "code",
   "execution_count": null,
   "metadata": {},
   "outputs": [],
   "source": [
    "url = \"https://www.city-data.com/forum/health-wellness/3245374-have-you-had-covid-vaccine-side.html\"\n",
    "response = req.get(url)\n",
    "soup = BS(response.text, 'html.parser')"
   ]
  },
  {
   "cell_type": "code",
   "execution_count": null,
   "metadata": {},
   "outputs": [],
   "source": [
    "# for each page (1-53) get all posts on page\n",
    "posts = get_posts_from_page(soup)"
   ]
  },
  {
   "cell_type": "code",
   "execution_count": 47,
   "metadata": {},
   "outputs": [],
   "source": [
    "sp = BS(posts[0]['html'], 'html.parser')"
   ]
  },
  {
   "cell_type": "code",
   "execution_count": 58,
   "metadata": {},
   "outputs": [
    {
     "name": "stdout",
     "output_type": "stream",
     "text": [
      "1\n",
      "'mascoma'\n",
      "2\n",
      "'Lillie767'\n",
      "3\n",
      "'mascoma'\n",
      "4\n",
      "'TravelingBoat'\n",
      "5\n",
      "'Lola The yorkie'\n",
      "6\n",
      "'Arktikos'\n",
      "7\n",
      "'Scorpio60'\n",
      "8\n",
      "'lubby'\n",
      "9\n",
      "'Lillie767'\n",
      "10\n",
      "'atlguy44'\n"
     ]
    }
   ],
   "source": [
    "for i, post in enumerate(posts):\n",
    "    print(i+1)\n",
    "    sp = BS(post['html'], 'html.parser')\n",
    "    username = sp.find('a', {'class' : 'bigusername'}).get_text().strip()\n",
    "    print(\"'{}'\".format(username))"
   ]
  }
 ],
 "metadata": {
  "kernelspec": {
   "display_name": "network_env",
   "language": "python",
   "name": "python3"
  },
  "language_info": {
   "codemirror_mode": {
    "name": "ipython",
    "version": 3
   },
   "file_extension": ".py",
   "mimetype": "text/x-python",
   "name": "python",
   "nbconvert_exporter": "python",
   "pygments_lexer": "ipython3",
   "version": "3.12.2"
  }
 },
 "nbformat": 4,
 "nbformat_minor": 2
}
